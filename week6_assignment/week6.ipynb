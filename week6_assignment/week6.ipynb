{
 "cells": [
  {
   "cell_type": "markdown",
   "id": "f43d1332",
   "metadata": {},
   "source": [
    "# Model Evaluation & Hyperparameter Tuning on the Wine Dataset\n",
    "\n",
    "This notebook trains multiple classifiers on the UCI Wine dataset, evaluates them using accuracy, precision, recall, and F1‑score, and performs hyperparameter tuning with **GridSearchCV** and **RandomizedSearchCV** to find the best model."
   ]
  },
  {
   "cell_type": "code",
   "execution_count": 1,
   "id": "298bd2c2",
   "metadata": {},
   "outputs": [],
   "source": [
    "import numpy as np\n",
    "import pandas as pd\n",
    "import matplotlib.pyplot as plt\n",
    "\n",
    "from sklearn import datasets\n",
    "from sklearn.model_selection import train_test_split, GridSearchCV, RandomizedSearchCV, cross_val_score\n",
    "from sklearn.preprocessing import StandardScaler\n",
    "from sklearn.pipeline import Pipeline\n",
    "from sklearn.metrics import accuracy_score, precision_score, recall_score, f1_score, classification_report, ConfusionMatrixDisplay\n",
    "\n",
    "from sklearn.svm import SVC\n",
    "from sklearn.linear_model import LogisticRegression\n",
    "from sklearn.ensemble import RandomForestClassifier\n",
    "from sklearn.neighbors import KNeighborsClassifier\n",
    "\n",
    "import warnings\n",
    "warnings.filterwarnings('ignore')"
   ]
  },
  {
   "cell_type": "code",
   "execution_count": 2,
   "id": "7d3fbb9b",
   "metadata": {},
   "outputs": [
    {
     "name": "stdout",
     "output_type": "stream",
     "text": [
      "Dataset shape: (178, 13), Labels: [0 1 2]\n"
     ]
    }
   ],
   "source": [
    "# Load the Wine dataset\n",
    "wine = datasets.load_wine()\n",
    "X = wine.data\n",
    "y = wine.target\n",
    "feature_names = wine.feature_names\n",
    "print(f\"Dataset shape: {X.shape}, Labels: {np.unique(y)}\")"
   ]
  },
  {
   "cell_type": "markdown",
   "id": "46594ba1",
   "metadata": {},
   "source": [
    "## Train‑Test Split"
   ]
  },
  {
   "cell_type": "code",
   "execution_count": 3,
   "id": "7ce78d96",
   "metadata": {},
   "outputs": [
    {
     "name": "stdout",
     "output_type": "stream",
     "text": [
      "Train shape: (142, 13), Test shape: (36, 13)\n"
     ]
    }
   ],
   "source": [
    "# Train‑test split\n",
    "X_train, X_test, y_train, y_test = train_test_split(\n",
    "    X, y, test_size=0.2, random_state=42, stratify=y\n",
    ")\n",
    "print(f\"Train shape: {X_train.shape}, Test shape: {X_test.shape}\")"
   ]
  },
  {
   "cell_type": "markdown",
   "id": "7c1ab6f6",
   "metadata": {},
   "source": [
    "## Baseline Models\n",
    "We evaluate four common classifiers with their default hyperparameters."
   ]
  },
  {
   "cell_type": "code",
   "execution_count": 4,
   "id": "9c195508",
   "metadata": {},
   "outputs": [
    {
     "data": {
      "text/html": [
       "<div>\n",
       "<style scoped>\n",
       "    .dataframe tbody tr th:only-of-type {\n",
       "        vertical-align: middle;\n",
       "    }\n",
       "\n",
       "    .dataframe tbody tr th {\n",
       "        vertical-align: top;\n",
       "    }\n",
       "\n",
       "    .dataframe thead th {\n",
       "        text-align: right;\n",
       "    }\n",
       "</style>\n",
       "<table border=\"1\" class=\"dataframe\">\n",
       "  <thead>\n",
       "    <tr style=\"text-align: right;\">\n",
       "      <th></th>\n",
       "      <th>Accuracy</th>\n",
       "      <th>Precision</th>\n",
       "      <th>Recall</th>\n",
       "      <th>F1</th>\n",
       "    </tr>\n",
       "    <tr>\n",
       "      <th>Model</th>\n",
       "      <th></th>\n",
       "      <th></th>\n",
       "      <th></th>\n",
       "      <th></th>\n",
       "    </tr>\n",
       "  </thead>\n",
       "  <tbody>\n",
       "    <tr>\n",
       "      <th>SVM</th>\n",
       "      <td>0.972222</td>\n",
       "      <td>0.974074</td>\n",
       "      <td>0.972222</td>\n",
       "      <td>0.971970</td>\n",
       "    </tr>\n",
       "    <tr>\n",
       "      <th>LogisticRegression</th>\n",
       "      <td>0.972222</td>\n",
       "      <td>0.974074</td>\n",
       "      <td>0.972222</td>\n",
       "      <td>0.971970</td>\n",
       "    </tr>\n",
       "    <tr>\n",
       "      <th>RandomForest</th>\n",
       "      <td>1.000000</td>\n",
       "      <td>1.000000</td>\n",
       "      <td>1.000000</td>\n",
       "      <td>1.000000</td>\n",
       "    </tr>\n",
       "    <tr>\n",
       "      <th>KNN</th>\n",
       "      <td>0.972222</td>\n",
       "      <td>0.974747</td>\n",
       "      <td>0.972222</td>\n",
       "      <td>0.972369</td>\n",
       "    </tr>\n",
       "  </tbody>\n",
       "</table>\n",
       "</div>"
      ],
      "text/plain": [
       "                    Accuracy  Precision    Recall        F1\n",
       "Model                                                      \n",
       "SVM                 0.972222   0.974074  0.972222  0.971970\n",
       "LogisticRegression  0.972222   0.974074  0.972222  0.971970\n",
       "RandomForest        1.000000   1.000000  1.000000  1.000000\n",
       "KNN                 0.972222   0.974747  0.972222  0.972369"
      ]
     },
     "execution_count": 4,
     "metadata": {},
     "output_type": "execute_result"
    }
   ],
   "source": [
    "models = {\n",
    "    'SVM': SVC(),\n",
    "    'LogisticRegression': LogisticRegression(max_iter=1000),\n",
    "    'RandomForest': RandomForestClassifier(random_state=42),\n",
    "    'KNN': KNeighborsClassifier()\n",
    "}\n",
    "\n",
    "results = []\n",
    "\n",
    "for name, model in models.items():\n",
    "    # Build a pipeline with scaling where needed\n",
    "    pipe = Pipeline([\n",
    "        ('scaler', StandardScaler()),\n",
    "        ('clf', model)\n",
    "    ])\n",
    "    pipe.fit(X_train, y_train)\n",
    "    y_pred = pipe.predict(X_test)\n",
    "    \n",
    "    acc  = accuracy_score(y_test, y_pred)\n",
    "    prec = precision_score(y_test, y_pred, average='weighted')\n",
    "    rec  = recall_score(y_test, y_pred, average='weighted')\n",
    "    f1   = f1_score(y_test, y_pred, average='weighted')\n",
    "    \n",
    "    results.append([name, acc, prec, rec, f1])\n",
    "    \n",
    "baseline_df = pd.DataFrame(results, columns=['Model', 'Accuracy', 'Precision', 'Recall', 'F1'])\n",
    "baseline_df.set_index('Model', inplace=True)\n",
    "baseline_df"
   ]
  },
  {
   "cell_type": "markdown",
   "id": "d8d51747",
   "metadata": {},
   "source": [
    "## Hyperparameter Tuning — GridSearchCV (SVM)"
   ]
  },
  {
   "cell_type": "code",
   "execution_count": 5,
   "id": "5b6761b1",
   "metadata": {},
   "outputs": [
    {
     "name": "stdout",
     "output_type": "stream",
     "text": [
      "Best params: {'clf__C': 0.01, 'clf__gamma': 'scale', 'clf__kernel': 'linear'}\n",
      "              precision    recall  f1-score   support\n",
      "\n",
      "           0       1.00      1.00      1.00        12\n",
      "           1       1.00      1.00      1.00        14\n",
      "           2       1.00      1.00      1.00        10\n",
      "\n",
      "    accuracy                           1.00        36\n",
      "   macro avg       1.00      1.00      1.00        36\n",
      "weighted avg       1.00      1.00      1.00        36\n",
      "\n"
     ]
    }
   ],
   "source": [
    "param_grid = {\n",
    "    'clf__C': [0.01, 0.1, 1, 10],\n",
    "    'clf__kernel': ['linear', 'rbf', 'poly'],\n",
    "    'clf__gamma': ['scale', 'auto', 0.01, 0.1, 1]\n",
    "}\n",
    "\n",
    "pipe_svm = Pipeline([\n",
    "    ('scaler', StandardScaler()),\n",
    "    ('clf', SVC())\n",
    "])\n",
    "\n",
    "grid_search = GridSearchCV(\n",
    "    pipe_svm, param_grid=param_grid, cv=5, scoring='f1_weighted', n_jobs=-1\n",
    ")\n",
    "grid_search.fit(X_train, y_train)\n",
    "\n",
    "print('Best params:', grid_search.best_params_)\n",
    "y_pred_grid = grid_search.predict(X_test)\n",
    "print(classification_report(y_test, y_pred_grid))\n",
    "\n",
    "# Store metrics\n",
    "grid_metrics = {\n",
    "    'Model': 'SVM_GridSearch',\n",
    "    'Accuracy': accuracy_score(y_test, y_pred_grid),\n",
    "    'Precision': precision_score(y_test, y_pred_grid, average='weighted'),\n",
    "    'Recall': recall_score(y_test, y_pred_grid, average='weighted'),\n",
    "    'F1': f1_score(y_test, y_pred_grid, average='weighted')\n",
    "}\n"
   ]
  },
  {
   "cell_type": "markdown",
   "id": "7995b2ef",
   "metadata": {},
   "source": [
    "## Hyperparameter Tuning — RandomizedSearchCV (SVM)"
   ]
  },
  {
   "cell_type": "code",
   "execution_count": 6,
   "id": "5737dccd",
   "metadata": {},
   "outputs": [
    {
     "name": "stdout",
     "output_type": "stream",
     "text": [
      "Best params (Randomized): {'clf__C': np.float64(2.463768595899747), 'clf__degree': 4, 'clf__gamma': np.float64(0.002259279742015696), 'clf__kernel': 'rbf'}\n",
      "              precision    recall  f1-score   support\n",
      "\n",
      "           0       1.00      1.00      1.00        12\n",
      "           1       1.00      1.00      1.00        14\n",
      "           2       1.00      1.00      1.00        10\n",
      "\n",
      "    accuracy                           1.00        36\n",
      "   macro avg       1.00      1.00      1.00        36\n",
      "weighted avg       1.00      1.00      1.00        36\n",
      "\n"
     ]
    }
   ],
   "source": [
    "from scipy.stats import loguniform, uniform\n",
    "\n",
    "param_dist = {\n",
    "    'clf__C': loguniform(1e-2, 1e2),\n",
    "    'clf__kernel': ['rbf', 'poly'],\n",
    "    'clf__gamma': loguniform(1e-3, 1e1),\n",
    "    'clf__degree': [2, 3, 4]\n",
    "}\n",
    "\n",
    "rand_search = RandomizedSearchCV(\n",
    "    pipe_svm, param_distributions=param_dist, n_iter=30,\n",
    "    cv=5, scoring='f1_weighted', random_state=42, n_jobs=-1\n",
    ")\n",
    "rand_search.fit(X_train, y_train)\n",
    "\n",
    "print('Best params (Randomized):', rand_search.best_params_)\n",
    "y_pred_rand = rand_search.predict(X_test)\n",
    "print(classification_report(y_test, y_pred_rand))\n",
    "\n",
    "# Store metrics\n",
    "rand_metrics = {\n",
    "    'Model': 'SVM_RandomSearch',\n",
    "    'Accuracy': accuracy_score(y_test, y_pred_rand),\n",
    "    'Precision': precision_score(y_test, y_pred_rand, average='weighted'),\n",
    "    'Recall': recall_score(y_test, y_pred_rand, average='weighted'),\n",
    "    'F1': f1_score(y_test, y_pred_rand, average='weighted')\n",
    "}\n"
   ]
  },
  {
   "cell_type": "markdown",
   "id": "d3fe5027",
   "metadata": {},
   "source": [
    "## Results Comparison"
   ]
  },
  {
   "cell_type": "code",
   "execution_count": 7,
   "id": "ecdb63b9",
   "metadata": {},
   "outputs": [
    {
     "data": {
      "text/html": [
       "<div>\n",
       "<style scoped>\n",
       "    .dataframe tbody tr th:only-of-type {\n",
       "        vertical-align: middle;\n",
       "    }\n",
       "\n",
       "    .dataframe tbody tr th {\n",
       "        vertical-align: top;\n",
       "    }\n",
       "\n",
       "    .dataframe thead th {\n",
       "        text-align: right;\n",
       "    }\n",
       "</style>\n",
       "<table border=\"1\" class=\"dataframe\">\n",
       "  <thead>\n",
       "    <tr style=\"text-align: right;\">\n",
       "      <th></th>\n",
       "      <th>Accuracy</th>\n",
       "      <th>Precision</th>\n",
       "      <th>Recall</th>\n",
       "      <th>F1</th>\n",
       "    </tr>\n",
       "    <tr>\n",
       "      <th>Model</th>\n",
       "      <th></th>\n",
       "      <th></th>\n",
       "      <th></th>\n",
       "      <th></th>\n",
       "    </tr>\n",
       "  </thead>\n",
       "  <tbody>\n",
       "    <tr>\n",
       "      <th>SVM_GridSearch</th>\n",
       "      <td>1.000000</td>\n",
       "      <td>1.000000</td>\n",
       "      <td>1.000000</td>\n",
       "      <td>1.000000</td>\n",
       "    </tr>\n",
       "    <tr>\n",
       "      <th>RandomForest</th>\n",
       "      <td>1.000000</td>\n",
       "      <td>1.000000</td>\n",
       "      <td>1.000000</td>\n",
       "      <td>1.000000</td>\n",
       "    </tr>\n",
       "    <tr>\n",
       "      <th>SVM_RandomSearch</th>\n",
       "      <td>1.000000</td>\n",
       "      <td>1.000000</td>\n",
       "      <td>1.000000</td>\n",
       "      <td>1.000000</td>\n",
       "    </tr>\n",
       "    <tr>\n",
       "      <th>KNN</th>\n",
       "      <td>0.972222</td>\n",
       "      <td>0.974747</td>\n",
       "      <td>0.972222</td>\n",
       "      <td>0.972369</td>\n",
       "    </tr>\n",
       "    <tr>\n",
       "      <th>LogisticRegression</th>\n",
       "      <td>0.972222</td>\n",
       "      <td>0.974074</td>\n",
       "      <td>0.972222</td>\n",
       "      <td>0.971970</td>\n",
       "    </tr>\n",
       "    <tr>\n",
       "      <th>SVM</th>\n",
       "      <td>0.972222</td>\n",
       "      <td>0.974074</td>\n",
       "      <td>0.972222</td>\n",
       "      <td>0.971970</td>\n",
       "    </tr>\n",
       "  </tbody>\n",
       "</table>\n",
       "</div>"
      ],
      "text/plain": [
       "                    Accuracy  Precision    Recall        F1\n",
       "Model                                                      \n",
       "SVM_GridSearch      1.000000   1.000000  1.000000  1.000000\n",
       "RandomForest        1.000000   1.000000  1.000000  1.000000\n",
       "SVM_RandomSearch    1.000000   1.000000  1.000000  1.000000\n",
       "KNN                 0.972222   0.974747  0.972222  0.972369\n",
       "LogisticRegression  0.972222   0.974074  0.972222  0.971970\n",
       "SVM                 0.972222   0.974074  0.972222  0.971970"
      ]
     },
     "execution_count": 7,
     "metadata": {},
     "output_type": "execute_result"
    }
   ],
   "source": [
    "final_df = pd.concat([baseline_df, \n",
    "                      pd.DataFrame([grid_metrics]).set_index('Model'),\n",
    "                      pd.DataFrame([rand_metrics]).set_index('Model')\n",
    "                     ])\n",
    "final_df.sort_values(by='F1', ascending=False)"
   ]
  },
  {
   "cell_type": "code",
   "execution_count": 8,
   "id": "6680bc39",
   "metadata": {},
   "outputs": [
    {
     "data": {
      "image/png": "[encoded data removed]",
      "text/plain": [
       "<Figure size 640x480 with 1 Axes>"
      ]
     },
     "metadata": {},
     "output_type": "display_data"
    }
   ],
   "source": [
    "final_df.sort_values('F1').plot(kind='barh', y='F1', legend=False)\n",
    "plt.title('F1‑score Comparison Across Models')\n",
    "plt.xlabel('F1‑score')\n",
    "plt.tight_layout()\n",
    "plt.show()"
   ]
  },
  {
   "cell_type": "markdown",
   "id": "e794027e",
   "metadata": {},
   "source": [
    "### Conclusion\n",
    "The tuned SVM models (both GridSearch and RandomizedSearch) achieve the highest F1‑scores, indicating that hyperparameter tuning significantly improves performance over baseline models on the Wine dataset.\n",
    "\n",
    "#### Cross validating below"
   ]
  },
  {
   "cell_type": "code",
   "execution_count": null,
   "id": "236e4f12",
   "metadata": {},
   "outputs": [
    {
     "name": "stdout",
     "output_type": "stream",
     "text": [
      "Mean F1 ± 1 std: 0.983 ± 0.018\n"
     ]
    }
   ],
   "source": [
    "svm_params = {k.split('__')[1]: v for k, v in grid_search.best_params_.items() if k.startswith('clf__')}\n",
    "\n",
    "pipe = Pipeline([\n",
    "    ('scaler', StandardScaler()),\n",
    "    ('clf', SVC(**svm_params))\n",
    "])\n",
    "\n",
    "# Cross-validation performance\n",
    "scores = cross_val_score(pipe, X, y, cv=cv, scoring='f1_weighted')\n",
    "print(f\"Mean F1 ± 1 std: {scores.mean():.3f} ± {scores.std():.3f}\")\n"
   ]
  },
  {
   "cell_type": "code",
   "execution_count": null,
   "id": "51a0e3e8",
   "metadata": {},
   "outputs": [],
   "source": []
  }
 ],
 "metadata": {
  "kernelspec": {
   "display_name": "Python 3",
   "language": "python",
   "name": "python3"
  },
  "language_info": {
   "codemirror_mode": {
    "name": "ipython",
    "version": 3
   },
   "file_extension": ".py",
   "mimetype": "text/x-python",
   "name": "python",
   "nbconvert_exporter": "python",
   "pygments_lexer": "ipython3",
   "version": "3.13.4"
  }
 },
 "nbformat": 4,
 "nbformat_minor": 5
}
